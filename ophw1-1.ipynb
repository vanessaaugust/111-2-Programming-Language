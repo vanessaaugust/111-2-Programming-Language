{
 "cells": [
  {
   "cell_type": "code",
   "execution_count": 1,
   "id": "58b39047",
   "metadata": {},
   "outputs": [
    {
     "data": {
      "text/plain": [
       "'1.4.4'"
      ]
     },
     "execution_count": 1,
     "metadata": {},
     "output_type": "execute_result"
    }
   ],
   "source": [
    "import pandas \n",
    "pandas.__version__"
   ]
  },
  {
   "cell_type": "code",
   "execution_count": 3,
   "id": "463946ab",
   "metadata": {},
   "outputs": [
    {
     "data": {
      "text/html": [
       "<div>\n",
       "<style scoped>\n",
       "    .dataframe tbody tr th:only-of-type {\n",
       "        vertical-align: middle;\n",
       "    }\n",
       "\n",
       "    .dataframe tbody tr th {\n",
       "        vertical-align: top;\n",
       "    }\n",
       "\n",
       "    .dataframe thead th {\n",
       "        text-align: right;\n",
       "    }\n",
       "</style>\n",
       "<table border=\"1\" class=\"dataframe\">\n",
       "  <thead>\n",
       "    <tr style=\"text-align: right;\">\n",
       "      <th></th>\n",
       "      <th>Student name</th>\n",
       "      <th>Exam subject</th>\n",
       "      <th>Exam date</th>\n",
       "      <th>Exam score</th>\n",
       "    </tr>\n",
       "  </thead>\n",
       "  <tbody>\n",
       "    <tr>\n",
       "      <th>0</th>\n",
       "      <td>James Walker</td>\n",
       "      <td>Biology</td>\n",
       "      <td>05/06/2016</td>\n",
       "      <td>31</td>\n",
       "    </tr>\n",
       "    <tr>\n",
       "      <th>1</th>\n",
       "      <td>Velma Clemons</td>\n",
       "      <td>Biology</td>\n",
       "      <td>05/06/2016</td>\n",
       "      <td>43</td>\n",
       "    </tr>\n",
       "    <tr>\n",
       "      <th>2</th>\n",
       "      <td>Kibo Underwood</td>\n",
       "      <td>Biology</td>\n",
       "      <td>05/06/2016</td>\n",
       "      <td>81</td>\n",
       "    </tr>\n",
       "    <tr>\n",
       "      <th>3</th>\n",
       "      <td>Louis Mcgee</td>\n",
       "      <td>Biology</td>\n",
       "      <td>05/06/2016</td>\n",
       "      <td>11</td>\n",
       "    </tr>\n",
       "    <tr>\n",
       "      <th>4</th>\n",
       "      <td>Phyllis Paul</td>\n",
       "      <td>Biology</td>\n",
       "      <td>05/06/2016</td>\n",
       "      <td>18</td>\n",
       "    </tr>\n",
       "    <tr>\n",
       "      <th>5</th>\n",
       "      <td>Zenaida Decker</td>\n",
       "      <td>Biology</td>\n",
       "      <td>05/06/2016</td>\n",
       "      <td>55</td>\n",
       "    </tr>\n",
       "    <tr>\n",
       "      <th>6</th>\n",
       "      <td>Gillian Tillman</td>\n",
       "      <td>Biology</td>\n",
       "      <td>05/06/2016</td>\n",
       "      <td>38</td>\n",
       "    </tr>\n",
       "    <tr>\n",
       "      <th>7</th>\n",
       "      <td>Constance Boone</td>\n",
       "      <td>Biology</td>\n",
       "      <td>05/06/2016</td>\n",
       "      <td>16</td>\n",
       "    </tr>\n",
       "    <tr>\n",
       "      <th>8</th>\n",
       "      <td>Giselle Lancaster</td>\n",
       "      <td>Biology</td>\n",
       "      <td>05/06/2016</td>\n",
       "      <td>73</td>\n",
       "    </tr>\n",
       "    <tr>\n",
       "      <th>9</th>\n",
       "      <td>Kirsten Mcdowell</td>\n",
       "      <td>Biology</td>\n",
       "      <td>05/06/2016</td>\n",
       "      <td>14</td>\n",
       "    </tr>\n",
       "  </tbody>\n",
       "</table>\n",
       "</div>"
      ],
      "text/plain": [
       "        Student name Exam subject   Exam date  Exam score\n",
       "0       James Walker      Biology  05/06/2016          31\n",
       "1      Velma Clemons      Biology  05/06/2016          43\n",
       "2     Kibo Underwood      Biology  05/06/2016          81\n",
       "3        Louis Mcgee      Biology  05/06/2016          11\n",
       "4       Phyllis Paul      Biology  05/06/2016          18\n",
       "5     Zenaida Decker      Biology  05/06/2016          55\n",
       "6    Gillian Tillman      Biology  05/06/2016          38\n",
       "7    Constance Boone      Biology  05/06/2016          16\n",
       "8  Giselle Lancaster      Biology  05/06/2016          73\n",
       "9   Kirsten Mcdowell      Biology  05/06/2016          14"
      ]
     },
     "execution_count": 3,
     "metadata": {},
     "output_type": "execute_result"
    }
   ],
   "source": [
    "import pandas as pd \n",
    "\n",
    "data = pd.read_csv('exams.csv')\n",
    "data"
   ]
  },
  {
   "cell_type": "code",
   "execution_count": null,
   "id": "33f7b7e3",
   "metadata": {},
   "outputs": [],
   "source": []
  },
  {
   "cell_type": "code",
   "execution_count": 30,
   "id": "1466ac7f",
   "metadata": {},
   "outputs": [
    {
     "name": "stdout",
     "output_type": "stream",
     "text": [
      "The average score in Biology is: 38.0\n"
     ]
    }
   ],
   "source": [
    "# print the average score\n",
    "avg_Bio_score = data['Exam score'].mean()\n",
    "print('The average score in Biology is:', avg_eng_score)"
   ]
  },
  {
   "cell_type": "code",
   "execution_count": 29,
   "id": "51e68471",
   "metadata": {},
   "outputs": [
    {
     "name": "stdout",
     "output_type": "stream",
     "text": [
      "The student with the highest score in Biology on 05/06/2016 is Kibo Underwood, with a score of 81.\n"
     ]
    }
   ],
   "source": [
    "# show who got the highest score \n",
    "highest_biology_score = data.loc[(data['Exam subject'] == 'Biology') & (data['Exam date'] == '05/06/2016'), 'Exam score'].max()\n",
    "highest_biology_score_student = data.loc[(data['Exam subject'] == 'Biology') & (data['Exam date'] == '05/06/2016') & (data['Exam score'] == highest_biology_score), 'Student name'].values[0]\n",
    "print(f\"The student with the highest score in Biology on 05/06/2016 is {highest_biology_score_student}, with a score of {highest_biology_score}.\")"
   ]
  },
  {
   "cell_type": "code",
   "execution_count": 34,
   "id": "5718c154",
   "metadata": {},
   "outputs": [
    {
     "name": "stdout",
     "output_type": "stream",
     "text": [
      "The student who scored the lowest in the Biology exam on 05/06/2016 was: Louis Mcgee\n"
     ]
    }
   ],
   "source": [
    "# who got the lowest score \n",
    "lowest_score = data[data[\"Exam subject\"] == \"Biology\"][\"Exam score\"].min()\n",
    "lowest_score_student = data[data[\"Exam subject\"] == \"Biology\"].loc[data[\"Exam score\"] == lowest_score, \"Student name\"].item()\n",
    "print(\"The student who scored the lowest in the Biology exam on 05/06/2016 was:\", lowest_score_student)"
   ]
  },
  {
   "cell_type": "code",
   "execution_count": 37,
   "id": "56d17995",
   "metadata": {},
   "outputs": [
    {
     "name": "stdout",
     "output_type": "stream",
     "text": [
      "The number of students who took the Biology exam on 05/06/2016 was: 10\n"
     ]
    }
   ],
   "source": [
    "# how many student took the test?\n",
    "num_students = len(data[data[\"Exam subject\"] == \"Biology\"])\n",
    "print(\"The number of students who took the Biology exam on 05/06/2016 was:\", num_students)"
   ]
  },
  {
   "cell_type": "code",
   "execution_count": 39,
   "id": "d9419471",
   "metadata": {},
   "outputs": [
    {
     "name": "stdout",
     "output_type": "stream",
     "text": [
      "Zenaida Decker scored higher in the Biology exam on 05/06/2016\n"
     ]
    }
   ],
   "source": [
    "# who got the highest score between zenaida and gillian  \n",
    "zenaida_score = data[data[\"Student name\"] == \"Zenaida Decker\"].loc[data[\"Exam subject\"] == \"Biology\", \"Exam score\"].item()\n",
    "gillian_score = data[data[\"Student name\"] == \"Gillian Tillman\"].loc[data[\"Exam subject\"] == \"Biology\", \"Exam score\"].item()\n",
    "if zenaida_score > gillian_score:\n",
    "    print(\"Zenaida Decker scored higher in the Biology exam on 05/06/2016\")\n",
    "else:\n",
    "    print(\"Gillian Tillman scored higher in the Biology exam on 05/06/2016\")"
   ]
  },
  {
   "cell_type": "code",
   "execution_count": 48,
   "id": "786c723b",
   "metadata": {},
   "outputs": [
    {
     "name": "stdout",
     "output_type": "stream",
     "text": [
      "Kirsten Mcdowell scored closer to the average score in the Biology exam on 05/06/2016.\n"
     ]
    }
   ],
   "source": [
    "# who got the scored closer to the average score, Louis Mcgee or Kirsten Mcdowell\n",
    "average_score = data[\"Exam score\"].mean()\n",
    "louis_score = data.loc[data[\"Student name\"] == \"Louis Mcgee\", \"Exam score\"].item()\n",
    "louis_distance = abs(louis_score - average_score)\n",
    "kirsten_score = data.loc[data[\"Student name\"] == \"Kirsten Mcdowell\", \"Exam score\"].item()\n",
    "kirsten_distance = abs(kirsten_score - average_score)\n",
    "kirsten_score = data.loc[data[\"Student name\"] == \"Kirsten Mcdowell\", \"Exam score\"].item()\n",
    "kirsten_distance = abs(kirsten_score - average_score)\n",
    "if louis_distance < kirsten_distance:\n",
    "    print(\"Louis Mcgee scored closer to the average score in the Biology exam on 05/06/2016.\")\n",
    "elif kirsten_distance < louis_distance:\n",
    "    print(\"Kirsten Mcdowell scored closer to the average score in the Biology exam on 05/06/2016.\")\n",
    "else:\n",
    "    print(\"Louis Mcgee and Kirsten Mcdowell scored the same distance from the average score in the Biology exam on 05/06/2016.\")\n"
   ]
  },
  {
   "cell_type": "code",
   "execution_count": 54,
   "id": "d3b5739d",
   "metadata": {},
   "outputs": [
    {
     "name": "stdout",
     "output_type": "stream",
     "text": [
      "The total sum of scores for the Biology exam on 05/06/2016 is: 380\n"
     ]
    }
   ],
   "source": [
    "# total sum \n",
    "total_score = data[\"Exam score\"].sum()\n",
    "print(\"The total sum of scores for the Biology exam on 05/06/2016 is:\", total_score)"
   ]
  },
  {
   "cell_type": "code",
   "execution_count": 68,
   "id": "943e806b",
   "metadata": {},
   "outputs": [
    {
     "name": "stdout",
     "output_type": "stream",
     "text": [
      "The Biology exam was held on 05/06/2016.\n"
     ]
    }
   ],
   "source": [
    "# what is the date of the exam? \n",
    "exam_date = data[data['Exam subject'] == 'Biology']['Exam date'].iloc[0]\n",
    "print(f\"The Biology exam was held on {exam_date}.\")"
   ]
  },
  {
   "cell_type": "code",
   "execution_count": 70,
   "id": "2514c0fc",
   "metadata": {},
   "outputs": [
    {
     "name": "stdout",
     "output_type": "stream",
     "text": [
      "30.0% of students scored above 50 in the Biology exam.\n"
     ]
    }
   ],
   "source": [
    "# What percentage of students scored above 50 in the Biology exam?\n",
    "num_above_50 = len(data[(data['Exam subject'] == 'Biology') & (data['Exam score'] > 50)])\n",
    "total_students = len(data[data['Exam subject'] == 'Biology'])\n",
    "percent_above_50 = (num_above_50 / total_students) * 100\n",
    "print(f\"{percent_above_50:.1f}% of students scored above 50 in the Biology exam.\")"
   ]
  },
  {
   "cell_type": "code",
   "execution_count": 4,
   "id": "c64da767",
   "metadata": {},
   "outputs": [
    {
     "name": "stdout",
     "output_type": "stream",
     "text": [
      "20.0% of students scored above 70 in the Biology exam.\n"
     ]
    }
   ],
   "source": [
    "# How many students scored more than 70 in the Biology exam?\n",
    "num_above_70 = len(data[(data['Exam subject'] == 'Biology') & (data['Exam score'] > 70)])\n",
    "total_students = len(data[data['Exam subject'] == 'Biology'])\n",
    "percent_above_70 = (num_above_70 / total_students) * 100\n",
    "print(f\"{percent_above_70:.1f}% of students scored above 70 in the Biology exam.\")"
   ]
  },
  {
   "cell_type": "code",
   "execution_count": null,
   "id": "7cc6ccf2",
   "metadata": {},
   "outputs": [],
   "source": []
  },
  {
   "cell_type": "code",
   "execution_count": null,
   "id": "a23af6cf",
   "metadata": {},
   "outputs": [],
   "source": []
  },
  {
   "cell_type": "code",
   "execution_count": null,
   "id": "7d96e7cb",
   "metadata": {},
   "outputs": [],
   "source": []
  },
  {
   "cell_type": "code",
   "execution_count": null,
   "id": "d07dffc9",
   "metadata": {},
   "outputs": [],
   "source": []
  }
 ],
 "metadata": {
  "kernelspec": {
   "display_name": "Python 3 (ipykernel)",
   "language": "python",
   "name": "python3"
  },
  "language_info": {
   "codemirror_mode": {
    "name": "ipython",
    "version": 3
   },
   "file_extension": ".py",
   "mimetype": "text/x-python",
   "name": "python",
   "nbconvert_exporter": "python",
   "pygments_lexer": "ipython3",
   "version": "3.9.13"
  }
 },
 "nbformat": 4,
 "nbformat_minor": 5
}
